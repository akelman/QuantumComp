{
 "cells": [
  {
   "cell_type": "markdown",
   "metadata": {},
   "source": [
    "# Notebook"
   ]
  },
  {
   "cell_type": "markdown",
   "metadata": {},
   "source": [
    "This notebook will track progress on my EngSci Thesis on Quantum Computing"
   ]
  },
  {
   "cell_type": "markdown",
   "metadata": {},
   "source": [
    "# Resources\n",
    "\n",
    "This section will contain some of most helpful resources, and will be continually updated.\n",
    "\n",
    "- Qiskit documentation: https://qiskit.org/documentation/\n"
   ]
  },
  {
   "cell_type": "markdown",
   "metadata": {},
   "source": [
    "# Project"
   ]
  },
  {
   "cell_type": "code",
   "execution_count": 2,
   "metadata": {},
   "outputs": [],
   "source": [
    "import time\n",
    "import numpy as np\n",
    "\n",
    "import qiskit\n",
    "from qiskit import IBMQ, Aer\n",
    "qiAPItoken = 'ad123ba04aa1c06365cd1d08605c4bcd84ab305fbf7526a0e0bee1be35ea7aca9747c66b750745c94fbcfcd68a921271ff9c213a7ebd33988bece8e798a7a655'\n",
    "\n",
    "#IBMQ.save_account(qiAPItoken)\n",
    "#IBMQ.enable_account(qiAPItoken)\n",
    "\n",
    "if False: #view qiskit version details\n",
    "    #qiskit.__version__\n",
    "    qiskit.__qiskit_version__\n",
    "\n",
    "from qiskit import QuantumCircuit, execute, IBMQ\n",
    "from qiskit.visualization import plot_histogram\n",
    "from qiskit.providers import JobStatus #enum for status of jobs\n",
    "import qiskit.tools.jupyter \n",
    "\n",
    "simulator = Aer.get_backend('qasm_simulator') # Use Aer's qasm_simulator\n",
    "provider = IBMQ.load_account()\n",
    "#IBMQ.providers()\n",
    "backend = provider.get_backend(name='ibmq_16_melbourne')"
   ]
  },
  {
   "cell_type": "markdown",
   "metadata": {},
   "source": [
    "### Qiskit Intro\n",
    "The following is the first tutorial with qiskit,\n",
    "available at: https://qiskit.org/documentation/getting_started.html\n"
   ]
  },
  {
   "cell_type": "code",
   "execution_count": 3,
   "metadata": {},
   "outputs": [
    {
     "name": "stdout",
     "output_type": "stream",
     "text": [
      "\n",
      "Total count for 00 and 11 are: {'00': 487, '11': 513}\n"
     ]
    },
    {
     "data": {
      "text/html": [
       "<pre style=\"word-wrap: normal;white-space: pre;background: #fff0;line-height: 1.1;font-family: &quot;Courier New&quot;,Courier,monospace\">        ┌───┐     ┌─┐   \n",
       "q_0: |0>┤ H ├──■──┤M├───\n",
       "        └───┘┌─┴─┐└╥┘┌─┐\n",
       "q_1: |0>─────┤ X ├─╫─┤M├\n",
       "             └───┘ ║ └╥┘\n",
       " c_0: 0 ═══════════╩══╬═\n",
       "                      ║ \n",
       " c_1: 0 ══════════════╩═\n",
       "                        </pre>"
      ],
      "text/plain": [
       "<qiskit.visualization.text.TextDrawing at 0x10f87f610>"
      ]
     },
     "execution_count": 3,
     "metadata": {},
     "output_type": "execute_result"
    }
   ],
   "source": [
    "\n",
    "\n",
    "\n",
    "\n",
    "# Create a Quantum Circuit acting on the q register\n",
    "circuit = QuantumCircuit(2, 2)\n",
    "\n",
    "# Add a H gate on qubit 0\n",
    "circuit.h(0)\n",
    "\n",
    "# Add a CX (CNOT) gate on control qubit 0 and target qubit 1\n",
    "circuit.cx(0, 1)\n",
    "\n",
    "# Map the quantum measurement to the classical bits\n",
    "circuit.measure([0,1], [0,1])\n",
    "\n",
    "# Execute the circuit on the qasm simulator\n",
    "job = execute(circuit, simulator, shots=1000)\n",
    "\n",
    "# Grab results from the job\n",
    "result = job.result()\n",
    "\n",
    "# Returns counts\n",
    "counts = result.get_counts(circuit)\n",
    "print(\"\\nTotal count for 00 and 11 are:\", counts)\n",
    "\n",
    "# Draw the circuit\n",
    "circuit.draw()\n"
   ]
  },
  {
   "cell_type": "markdown",
   "metadata": {},
   "source": [
    "## Exponentiating Circuit Modulo N\n",
    "Circuit shown in Figure 5 of Gamel & James (qubits labelled 0-7 from top)"
   ]
  },
  {
   "cell_type": "code",
   "execution_count": 4,
   "metadata": {},
   "outputs": [],
   "source": [
    "numQubits = 8\n",
    "numBits = 5 #number of bits in output\n",
    "circuit = QuantumCircuit(numQubits, numBits)\n",
    "\n",
    "#for i in range(7):\n",
    "#    circuit.reset(i)\n",
    "\n",
    "#initialize 3 input qubits\n",
    "#circuit.x(2)\n",
    "#circuit.x(1)\n",
    "#circuit.x(0)\n",
    "\n",
    "#Modular Exponentiation\n",
    "circuit.cx(1, 5) #CNOT\n",
    "circuit.cx(2, 5)\n",
    "circuit.cx(1, 7)\n",
    "circuit.cx(0, 7)\n",
    "circuit.ccx(5, 7, 3) #Toffoli, target is last qubit\n",
    "circuit.cx(0, 7)\n",
    "circuit.cx(1, 7)\n",
    "circuit.ccx(0, 3, 7)\n",
    "circuit.cx(3, 5)\n",
    "circuit.cx(7, 5)\n",
    "circuit.cx(0, 5)\n",
    "circuit.x(7) #NOT\n",
    "circuit.cx(2, 7)\n",
    "circuit.cx(1, 7)\n",
    "circuit.cx(0, 7)\n",
    "\n",
    "# get the Quantum Register by Name\n",
    "qr = Q_program.get_quantum_registers(\"qr\")\n",
    "\n",
    "#Quantum Fourier Transform (QFT)\n",
    "circuit.x(4)\n",
    "circuit.cu1(math.pi/2.0, qr[5], qr[4]) \n",
    "\n",
    "\n",
    "\n",
    "# Draw the circuit\n",
    "if False:\n",
    "    circuit.draw()\n",
    "\n",
    "#print(circuit.qasm())\n"
   ]
  },
  {
   "cell_type": "code",
   "execution_count": null,
   "metadata": {},
   "outputs": [],
   "source": []
  },
  {
   "cell_type": "code",
   "execution_count": 13,
   "metadata": {},
   "outputs": [
    {
     "name": "stdout",
     "output_type": "stream",
     "text": [
      "Total count is: {'00001': 492, '01001': 508}\n",
      "Execution time: 0.015965938568115234\n"
     ]
    }
   ],
   "source": [
    "##Running the above circuit on simulator\n",
    "\n",
    "#measure output\n",
    "circuit.measure([3,4,5,6,7], [4,3,2,1,0])\n",
    "\n",
    "# Execute the circuit on the qasm simulator\n",
    "job = execute(circuit, simulator, shots=1000)\n",
    "\n",
    "# Grab results from the job\n",
    "result = job.result()\n",
    "\n",
    "# Returns counts\n",
    "counts = result.get_counts(circuit)\n",
    "print(\"Total count is:\", counts)\n",
    "print(\"Execution time:\", result.time_taken)\n",
    "\n",
    "\n",
    "##Results\n",
    "# input (x_3, x_2, x_1) : result (y_5 ... y_1)\n",
    "# 000 : 00001\n",
    "# 001 : 00100\n",
    "# 010 : 10000\n",
    "# 011 : 00001\n",
    "# 100 : 00100\n",
    "# 101 : 10000\n",
    "# 110 : 00001\n",
    "# 111 : 00100\n",
    "#all results (when run on simulator match truth table in paper)"
   ]
  },
  {
   "cell_type": "code",
   "execution_count": 4,
   "metadata": {
    "scrolled": false
   },
   "outputs": [
    {
     "data": {
      "application/vnd.jupyter.widget-view+json": {
       "model_id": "2616d5db87ef4219b2989bf208594ebd",
       "version_major": 2,
       "version_minor": 0
      },
      "text/plain": [
       "Accordion(children=(VBox(layout=Layout(max_width='610px', min_width='610px')),), layout=Layout(max_height='500…"
      ]
     },
     "metadata": {},
     "output_type": "display_data"
    },
    {
     "data": {
      "application/javascript": [
       "$('div.job_widget')\n",
       "        .detach()\n",
       "        .appendTo($('#header'))\n",
       "        .css({\n",
       "            'z-index': 999,\n",
       "             'position': 'fixed',\n",
       "            'box-shadow': '5px 5px 5px -3px black',\n",
       "            'opacity': 0.95,\n",
       "            'float': 'left,'\n",
       "        })\n",
       "        "
      ],
      "text/plain": [
       "<IPython.core.display.Javascript object>"
      ]
     },
     "metadata": {},
     "output_type": "display_data"
    },
    {
     "data": {
      "text/plain": [
       "\"\\nstart_time = time.time()\\njob_status = job.status()\\nwhile job_status not in JOB_FINAL_STATES:\\n    print(f'Status @ {time.time()-start_time:0.0f} s: {job_status.name},'\\n          f' est. queue position: {job.queue_position()}')\\n    time.sleep(10)\\n    job_status = job.status()\\n\\nresult = job.result()\\nprint(result.get_counts())\\n\""
      ]
     },
     "execution_count": 4,
     "metadata": {},
     "output_type": "execute_result"
    }
   ],
   "source": [
    "##Running the above circuit on quantum backend\n",
    "%qiskit_job_watcher\n",
    "#qobj = compile(circuit, backend, shots=2000)\n",
    "#job = backend.run(qobj)\n",
    "job = execute(circuit, backend, shots=1000)\n",
    "'''\n",
    "start_time = time.time()\n",
    "job_status = job.status()\n",
    "while job_status not in JOB_FINAL_STATES:\n",
    "    print(f'Status @ {time.time()-start_time:0.0f} s: {job_status.name},'\n",
    "          f' est. queue position: {job.queue_position()}')\n",
    "    time.sleep(10)\n",
    "    job_status = job.status()\n",
    "\n",
    "result = job.result()\n",
    "print(result.get_counts())\n",
    "'''"
   ]
  },
  {
   "cell_type": "code",
   "execution_count": 5,
   "metadata": {},
   "outputs": [
    {
     "name": "stdout",
     "output_type": "stream",
     "text": [
      "JobStatus.DONE\n",
      "Total count is: {'00000': 1000}\n"
     ]
    },
    {
     "data": {
      "image/png": "[encoded data removed]",
      "text/plain": [
       "<Figure size 432x288 with 1 Axes>"
      ]
     },
     "metadata": {
      "needs_background": "light"
     },
     "output_type": "display_data"
    }
   ],
   "source": [
    "print(job.status())\n",
    "import matplotlib.pyplot as plt\n",
    "if job.status() == JobStatus.DONE:\n",
    "    result = job.result()\n",
    "    \n",
    "    counts = result.get_counts(circuit)\n",
    "    print(\"Total count is:\", counts)\n",
    "    #print(\"Execution time:\", result.time_taken)\n",
    "    \n",
    "    plt.bar(counts.keys(), counts.values(), color='g')"
   ]
  },
  {
   "cell_type": "code",
   "execution_count": 6,
   "metadata": {},
   "outputs": [
    {
     "ename": "AttributeError",
     "evalue": "'Result' object has no attribute 'time_taken'",
     "output_type": "error",
     "traceback": [
      "\u001b[0;31m---------------------------------------------------------------------------\u001b[0m",
      "\u001b[0;31mAttributeError\u001b[0m                            Traceback (most recent call last)",
      "\u001b[0;32m<ipython-input-6-c92017ebd370>\u001b[0m in \u001b[0;36m<module>\u001b[0;34m\u001b[0m\n\u001b[0;32m----> 1\u001b[0;31m \u001b[0mprint\u001b[0m\u001b[0;34m(\u001b[0m\u001b[0mresult\u001b[0m\u001b[0;34m.\u001b[0m\u001b[0mtime_taken\u001b[0m\u001b[0;34m)\u001b[0m\u001b[0;34m\u001b[0m\u001b[0;34m\u001b[0m\u001b[0m\n\u001b[0m",
      "\u001b[0;31mAttributeError\u001b[0m: 'Result' object has no attribute 'time_taken'"
     ]
    }
   ],
   "source": [
    "print(result.time_taken)"
   ]
  },
  {
   "cell_type": "code",
   "execution_count": null,
   "metadata": {},
   "outputs": [],
   "source": []
  }
 ],
 "metadata": {
  "kernelspec": {
   "display_name": "Python 3",
   "language": "python",
   "name": "python3"
  },
  "language_info": {
   "codemirror_mode": {
    "name": "ipython",
    "version": 3
   },
   "file_extension": ".py",
   "mimetype": "text/x-python",
   "name": "python",
   "nbconvert_exporter": "python",
   "pygments_lexer": "ipython3",
   "version": "3.7.4"
  }
 },
 "nbformat": 4,
 "nbformat_minor": 2
}
